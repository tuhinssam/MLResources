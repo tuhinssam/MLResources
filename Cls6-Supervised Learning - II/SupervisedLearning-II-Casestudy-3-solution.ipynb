{
 "cells": [
  {
   "cell_type": "markdown",
   "metadata": {},
   "source": [
    "Objective:\n",
    "• Employ SVM from scikit learn for binary classification.\n",
    "• Impact of preprocessing data and hyper paramter search using grid search.\n",
    "Questions:\n",
    "1. Load the data from “college.csv” that has attributes collected about private and public colleges for a particular year. We will try to predict the private/public status of the college from other attributes.\n",
    "2. Use LabelEncoder to encode the target variable in to numerical form and split the data such that 20% of the data is set aside for testing.\n",
    "3. Fit a linear svm from scikit learn and observe the accuracy.\n",
    "[Hint: Use Linear SVC]\n",
    "4. Preprocess the data using StandardScalar and fit the same model again and observe the change in accuracy.\n",
    "[Hint: Refer to scikitlearn’s preprocessing methods]\n",
    "5. Use scikit learn’s gridsearch to select the best hyperparameter for a non-linear SVM, identify the model with best score and its parameters.\n",
    "[Hint: Refer to model_selection module of Scikit learn]"
   ]
  },
  {
   "cell_type": "code",
   "execution_count": 1,
   "metadata": {},
   "outputs": [],
   "source": [
    "import pandas as pd\n",
    "import numpy as np\n",
    "import matplotlib.pyplot as plt\n",
    "import seaborn as sns"
   ]
  },
  {
   "cell_type": "code",
   "execution_count": 2,
   "metadata": {},
   "outputs": [],
   "source": [
    "dfcollege = pd.read_csv('College.csv')"
   ]
  },
  {
   "cell_type": "code",
   "execution_count": 4,
   "metadata": {},
   "outputs": [
    {
     "data": {
      "text/html": [
       "<div>\n",
       "<style scoped>\n",
       "    .dataframe tbody tr th:only-of-type {\n",
       "        vertical-align: middle;\n",
       "    }\n",
       "\n",
       "    .dataframe tbody tr th {\n",
       "        vertical-align: top;\n",
       "    }\n",
       "\n",
       "    .dataframe thead th {\n",
       "        text-align: right;\n",
       "    }\n",
       "</style>\n",
       "<table border=\"1\" class=\"dataframe\">\n",
       "  <thead>\n",
       "    <tr style=\"text-align: right;\">\n",
       "      <th></th>\n",
       "      <th>Private</th>\n",
       "      <th>Apps</th>\n",
       "      <th>Accept</th>\n",
       "      <th>Enroll</th>\n",
       "      <th>Top10perc</th>\n",
       "      <th>Top25perc</th>\n",
       "      <th>F.Undergrad</th>\n",
       "      <th>P.Undergrad</th>\n",
       "      <th>Outstate</th>\n",
       "      <th>Room.Board</th>\n",
       "      <th>Books</th>\n",
       "      <th>Personal</th>\n",
       "      <th>PhD</th>\n",
       "      <th>Terminal</th>\n",
       "      <th>S.F.Ratio</th>\n",
       "      <th>perc.alumni</th>\n",
       "      <th>Expend</th>\n",
       "      <th>Grad.Rate</th>\n",
       "    </tr>\n",
       "  </thead>\n",
       "  <tbody>\n",
       "    <tr>\n",
       "      <th>160</th>\n",
       "      <td>Yes</td>\n",
       "      <td>571</td>\n",
       "      <td>461</td>\n",
       "      <td>174</td>\n",
       "      <td>10</td>\n",
       "      <td>26</td>\n",
       "      <td>645</td>\n",
       "      <td>283</td>\n",
       "      <td>10850</td>\n",
       "      <td>3670</td>\n",
       "      <td>400</td>\n",
       "      <td>1159</td>\n",
       "      <td>58</td>\n",
       "      <td>60</td>\n",
       "      <td>12.8</td>\n",
       "      <td>19</td>\n",
       "      <td>7505</td>\n",
       "      <td>56</td>\n",
       "    </tr>\n",
       "    <tr>\n",
       "      <th>572</th>\n",
       "      <td>No</td>\n",
       "      <td>3150</td>\n",
       "      <td>2289</td>\n",
       "      <td>650</td>\n",
       "      <td>16</td>\n",
       "      <td>51</td>\n",
       "      <td>3598</td>\n",
       "      <td>234</td>\n",
       "      <td>6840</td>\n",
       "      <td>4660</td>\n",
       "      <td>500</td>\n",
       "      <td>1000</td>\n",
       "      <td>71</td>\n",
       "      <td>75</td>\n",
       "      <td>15.1</td>\n",
       "      <td>17</td>\n",
       "      <td>6436</td>\n",
       "      <td>59</td>\n",
       "    </tr>\n",
       "    <tr>\n",
       "      <th>666</th>\n",
       "      <td>Yes</td>\n",
       "      <td>4044</td>\n",
       "      <td>2826</td>\n",
       "      <td>688</td>\n",
       "      <td>51</td>\n",
       "      <td>83</td>\n",
       "      <td>2738</td>\n",
       "      <td>138</td>\n",
       "      <td>16230</td>\n",
       "      <td>4500</td>\n",
       "      <td>630</td>\n",
       "      <td>1800</td>\n",
       "      <td>79</td>\n",
       "      <td>86</td>\n",
       "      <td>15.0</td>\n",
       "      <td>17</td>\n",
       "      <td>11217</td>\n",
       "      <td>63</td>\n",
       "    </tr>\n",
       "    <tr>\n",
       "      <th>97</th>\n",
       "      <td>Yes</td>\n",
       "      <td>1307</td>\n",
       "      <td>1090</td>\n",
       "      <td>616</td>\n",
       "      <td>25</td>\n",
       "      <td>55</td>\n",
       "      <td>2196</td>\n",
       "      <td>82</td>\n",
       "      <td>7344</td>\n",
       "      <td>4410</td>\n",
       "      <td>570</td>\n",
       "      <td>1000</td>\n",
       "      <td>50</td>\n",
       "      <td>52</td>\n",
       "      <td>15.3</td>\n",
       "      <td>34</td>\n",
       "      <td>6897</td>\n",
       "      <td>64</td>\n",
       "    </tr>\n",
       "    <tr>\n",
       "      <th>775</th>\n",
       "      <td>Yes</td>\n",
       "      <td>10705</td>\n",
       "      <td>2453</td>\n",
       "      <td>1317</td>\n",
       "      <td>95</td>\n",
       "      <td>99</td>\n",
       "      <td>5217</td>\n",
       "      <td>83</td>\n",
       "      <td>19840</td>\n",
       "      <td>6510</td>\n",
       "      <td>630</td>\n",
       "      <td>2115</td>\n",
       "      <td>96</td>\n",
       "      <td>96</td>\n",
       "      <td>5.8</td>\n",
       "      <td>49</td>\n",
       "      <td>40386</td>\n",
       "      <td>99</td>\n",
       "    </tr>\n",
       "  </tbody>\n",
       "</table>\n",
       "</div>"
      ],
      "text/plain": [
       "    Private   Apps  Accept  Enroll  Top10perc  Top25perc  F.Undergrad  \\\n",
       "160     Yes    571     461     174         10         26          645   \n",
       "572      No   3150    2289     650         16         51         3598   \n",
       "666     Yes   4044    2826     688         51         83         2738   \n",
       "97      Yes   1307    1090     616         25         55         2196   \n",
       "775     Yes  10705    2453    1317         95         99         5217   \n",
       "\n",
       "     P.Undergrad  Outstate  Room.Board  Books  Personal  PhD  Terminal  \\\n",
       "160          283     10850        3670    400      1159   58        60   \n",
       "572          234      6840        4660    500      1000   71        75   \n",
       "666          138     16230        4500    630      1800   79        86   \n",
       "97            82      7344        4410    570      1000   50        52   \n",
       "775           83     19840        6510    630      2115   96        96   \n",
       "\n",
       "     S.F.Ratio  perc.alumni  Expend  Grad.Rate  \n",
       "160       12.8           19    7505         56  \n",
       "572       15.1           17    6436         59  \n",
       "666       15.0           17   11217         63  \n",
       "97        15.3           34    6897         64  \n",
       "775        5.8           49   40386         99  "
      ]
     },
     "execution_count": 4,
     "metadata": {},
     "output_type": "execute_result"
    }
   ],
   "source": [
    "dfcollege.sample(5)"
   ]
  },
  {
   "cell_type": "code",
   "execution_count": 8,
   "metadata": {},
   "outputs": [
    {
     "data": {
      "text/plain": [
       "(777, 18)"
      ]
     },
     "execution_count": 8,
     "metadata": {},
     "output_type": "execute_result"
    }
   ],
   "source": [
    "dfcollege.shape"
   ]
  },
  {
   "cell_type": "code",
   "execution_count": 9,
   "metadata": {},
   "outputs": [
    {
     "name": "stdout",
     "output_type": "stream",
     "text": [
      "<class 'pandas.core.frame.DataFrame'>\n",
      "RangeIndex: 777 entries, 0 to 776\n",
      "Data columns (total 18 columns):\n",
      "Private        777 non-null object\n",
      "Apps           777 non-null int64\n",
      "Accept         777 non-null int64\n",
      "Enroll         777 non-null int64\n",
      "Top10perc      777 non-null int64\n",
      "Top25perc      777 non-null int64\n",
      "F.Undergrad    777 non-null int64\n",
      "P.Undergrad    777 non-null int64\n",
      "Outstate       777 non-null int64\n",
      "Room.Board     777 non-null int64\n",
      "Books          777 non-null int64\n",
      "Personal       777 non-null int64\n",
      "PhD            777 non-null int64\n",
      "Terminal       777 non-null int64\n",
      "S.F.Ratio      777 non-null float64\n",
      "perc.alumni    777 non-null int64\n",
      "Expend         777 non-null int64\n",
      "Grad.Rate      777 non-null int64\n",
      "dtypes: float64(1), int64(16), object(1)\n",
      "memory usage: 109.3+ KB\n"
     ]
    }
   ],
   "source": [
    "dfcollege.info()"
   ]
  },
  {
   "cell_type": "code",
   "execution_count": 7,
   "metadata": {},
   "outputs": [],
   "source": [
    "from sklearn.preprocessing import LabelEncoder\n",
    "labencoder = LabelEncoder()"
   ]
  },
  {
   "cell_type": "code",
   "execution_count": 11,
   "metadata": {},
   "outputs": [],
   "source": [
    "dfcollege['Private'] = labencoder.fit_transform(dfcollege['Private'].astype('str'))"
   ]
  },
  {
   "cell_type": "code",
   "execution_count": 12,
   "metadata": {},
   "outputs": [],
   "source": [
    "X = dfcollege.drop('Private', axis = 1)"
   ]
  },
  {
   "cell_type": "code",
   "execution_count": 14,
   "metadata": {},
   "outputs": [],
   "source": [
    "y= dfcollege.Private"
   ]
  },
  {
   "cell_type": "code",
   "execution_count": 15,
   "metadata": {},
   "outputs": [],
   "source": [
    "from sklearn.model_selection import train_test_split\n",
    "from sklearn.metrics import accuracy_score"
   ]
  },
  {
   "cell_type": "code",
   "execution_count": 18,
   "metadata": {},
   "outputs": [],
   "source": [
    "X_train, X_test, y_train, y_test = train_test_split(X, y,test_size=0.3, random_state=5)"
   ]
  },
  {
   "cell_type": "code",
   "execution_count": 19,
   "metadata": {},
   "outputs": [],
   "source": [
    "from sklearn.svm import SVC"
   ]
  },
  {
   "cell_type": "code",
   "execution_count": 35,
   "metadata": {},
   "outputs": [],
   "source": [
    "svcmodel = SVC(C=1, kernel='linear', gamma=1)"
   ]
  },
  {
   "cell_type": "code",
   "execution_count": 36,
   "metadata": {},
   "outputs": [
    {
     "data": {
      "text/plain": [
       "SVC(C=1, cache_size=200, class_weight=None, coef0=0.0,\n",
       "  decision_function_shape='ovr', degree=3, gamma=1, kernel='linear',\n",
       "  max_iter=-1, probability=False, random_state=None, shrinking=True,\n",
       "  tol=0.001, verbose=False)"
      ]
     },
     "execution_count": 36,
     "metadata": {},
     "output_type": "execute_result"
    }
   ],
   "source": [
    "svcmodel.fit(X_train,y_train)"
   ]
  },
  {
   "cell_type": "code",
   "execution_count": 37,
   "metadata": {},
   "outputs": [],
   "source": [
    "prediction = svcmodel.predict(X_test)"
   ]
  },
  {
   "cell_type": "code",
   "execution_count": 38,
   "metadata": {},
   "outputs": [
    {
     "data": {
      "text/plain": [
       "0.9401709401709402"
      ]
     },
     "execution_count": 38,
     "metadata": {},
     "output_type": "execute_result"
    }
   ],
   "source": [
    "accuracy_score(y_test, prediction)"
   ]
  },
  {
   "cell_type": "markdown",
   "metadata": {},
   "source": [
    "4. Preprocess the data using StandardScalar and fit the same model again and observe the change in accuracy.\n",
    "[Hint: Refer to scikitlearn’s preprocessing methods]\n",
    "5. Use scikit learn’s gridsearch to select the best hyperparameter for a non-linear SVM, identify the model with best score and its parameters.\n",
    "[Hint: Refer to model_selection module of Scikit learn]"
   ]
  },
  {
   "cell_type": "code",
   "execution_count": null,
   "metadata": {},
   "outputs": [],
   "source": []
  }
 ],
 "metadata": {
  "kernelspec": {
   "display_name": "Python 3",
   "language": "python",
   "name": "python3"
  },
  "language_info": {
   "codemirror_mode": {
    "name": "ipython",
    "version": 3
   },
   "file_extension": ".py",
   "mimetype": "text/x-python",
   "name": "python",
   "nbconvert_exporter": "python",
   "pygments_lexer": "ipython3",
   "version": "3.7.1"
  }
 },
 "nbformat": 4,
 "nbformat_minor": 2
}
