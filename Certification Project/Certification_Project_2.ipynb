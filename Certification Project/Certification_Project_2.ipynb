{
 "cells": [
  {
   "cell_type": "markdown",
   "metadata": {},
   "source": [
    "New DG Food Agro are a multinational exporter of various grains from India since nearly 130 years. But their main product of exporting since early 1980s has been Wheat. They export wheat to countries like America, Afghanistan, Australia etc. They started seeing varying exports of sales year on year for various countries. The reason that was theorized by them had a lot of natural causes like floods, country growth, population explosion etc. Now they need to decide which countries fall in the same range of export and which don’t. They also need to know which countries export is low and can be improved and which countries are performing very well across the years.\n",
    "The data provided right now is across 18 years. What they need is a repeatable solution which won’t get affected no matter how much data is added across time and that they should be able to explain the data across years in less number of variables.\n",
    "Objective: Our objective is to cluster the countries based on various sales data provided to us across years. We have to apply an unsupervised learning technique like K means or Hierarchical clustering so as to get the final solution. But before that we have to bring the exports (in tons) of all countries down to same scale across years. Plus, as this solution needs to be repeatable we will have to do PCA so as to get the principal components which explain max variance.\n",
    "Implementation:\n",
    "\n",
    "1) Read the data file and check for any missing values\n",
    "\n",
    "2) Change the headers to country and year accordingly.\n",
    "\n",
    "3) Cleanse the data if required and remove null or blank values\n",
    "\n",
    "4) After the EDA part is done, try to think which algorithm should be applied here.\n",
    "\n",
    "5) As we need to make this across years we need to apply PCA first.\n",
    "\n",
    "6) Apply PCA on the dataset and find the number of principal components which explain nearly all the variance.\n",
    "\n",
    "7) Plot elbow chart or scree plot to find out optimal number of clusters.\n",
    "\n",
    "8) Then try to apply K means, Hierarchical clustering and showcase the results.\n",
    "\n",
    "9) You can either choose to group the countries based on years of data or using the principal components.\n",
    "\n",
    "10) Then see which countries are consistent and which are largest importers of the good based on scale and position of cluster."
   ]
  },
  {
   "cell_type": "code",
   "execution_count": 115,
   "metadata": {},
   "outputs": [],
   "source": [
    "import pandas as pd\n",
    "import numpy as np\n",
    "import matplotlib.pyplot as plt\n",
    "import seaborn as sns"
   ]
  },
  {
   "cell_type": "code",
   "execution_count": 116,
   "metadata": {},
   "outputs": [],
   "source": [
    "# 1. Read the data file and check for any missing values\n",
    "dfdata = pd.read_csv('542_proj_dataset_2_v1.0\\Project_Data_2.csv')"
   ]
  },
  {
   "cell_type": "code",
   "execution_count": 117,
   "metadata": {},
   "outputs": [
    {
     "data": {
      "text/html": [
       "<div>\n",
       "<style scoped>\n",
       "    .dataframe tbody tr th:only-of-type {\n",
       "        vertical-align: middle;\n",
       "    }\n",
       "\n",
       "    .dataframe tbody tr th {\n",
       "        vertical-align: top;\n",
       "    }\n",
       "\n",
       "    .dataframe thead th {\n",
       "        text-align: right;\n",
       "    }\n",
       "</style>\n",
       "<table border=\"1\" class=\"dataframe\">\n",
       "  <thead>\n",
       "    <tr style=\"text-align: right;\">\n",
       "      <th></th>\n",
       "      <th>Sales of Wheat in tons</th>\n",
       "      <th>1990</th>\n",
       "      <th>1991</th>\n",
       "      <th>1992</th>\n",
       "      <th>1993</th>\n",
       "      <th>1994</th>\n",
       "      <th>1995</th>\n",
       "      <th>1996</th>\n",
       "      <th>1997</th>\n",
       "      <th>1998</th>\n",
       "      <th>1999</th>\n",
       "      <th>2000</th>\n",
       "      <th>2001</th>\n",
       "      <th>2002</th>\n",
       "      <th>2003</th>\n",
       "      <th>2004</th>\n",
       "      <th>2005</th>\n",
       "      <th>2006</th>\n",
       "      <th>2007</th>\n",
       "    </tr>\n",
       "  </thead>\n",
       "  <tbody>\n",
       "    <tr>\n",
       "      <th>0</th>\n",
       "      <td>Afghanistan</td>\n",
       "      <td>436</td>\n",
       "      <td>429</td>\n",
       "      <td>422</td>\n",
       "      <td>415</td>\n",
       "      <td>407</td>\n",
       "      <td>397</td>\n",
       "      <td>397</td>\n",
       "      <td>387</td>\n",
       "      <td>374</td>\n",
       "      <td>373</td>\n",
       "      <td>346</td>\n",
       "      <td>326</td>\n",
       "      <td>304</td>\n",
       "      <td>308</td>\n",
       "      <td>283</td>\n",
       "      <td>267</td>\n",
       "      <td>251</td>\n",
       "      <td>238</td>\n",
       "    </tr>\n",
       "    <tr>\n",
       "      <th>1</th>\n",
       "      <td>Albania</td>\n",
       "      <td>42</td>\n",
       "      <td>40</td>\n",
       "      <td>41</td>\n",
       "      <td>42</td>\n",
       "      <td>42</td>\n",
       "      <td>43</td>\n",
       "      <td>42</td>\n",
       "      <td>44</td>\n",
       "      <td>43</td>\n",
       "      <td>42</td>\n",
       "      <td>40</td>\n",
       "      <td>34</td>\n",
       "      <td>32</td>\n",
       "      <td>32</td>\n",
       "      <td>29</td>\n",
       "      <td>29</td>\n",
       "      <td>26</td>\n",
       "      <td>22</td>\n",
       "    </tr>\n",
       "    <tr>\n",
       "      <th>2</th>\n",
       "      <td>Algeria</td>\n",
       "      <td>45</td>\n",
       "      <td>44</td>\n",
       "      <td>44</td>\n",
       "      <td>43</td>\n",
       "      <td>43</td>\n",
       "      <td>42</td>\n",
       "      <td>43</td>\n",
       "      <td>44</td>\n",
       "      <td>45</td>\n",
       "      <td>46</td>\n",
       "      <td>48</td>\n",
       "      <td>49</td>\n",
       "      <td>50</td>\n",
       "      <td>51</td>\n",
       "      <td>52</td>\n",
       "      <td>53</td>\n",
       "      <td>55</td>\n",
       "      <td>56</td>\n",
       "    </tr>\n",
       "    <tr>\n",
       "      <th>3</th>\n",
       "      <td>American Samoa</td>\n",
       "      <td>42</td>\n",
       "      <td>14</td>\n",
       "      <td>4</td>\n",
       "      <td>18</td>\n",
       "      <td>17</td>\n",
       "      <td>22</td>\n",
       "      <td>0</td>\n",
       "      <td>25</td>\n",
       "      <td>12</td>\n",
       "      <td>8</td>\n",
       "      <td>8</td>\n",
       "      <td>6</td>\n",
       "      <td>5</td>\n",
       "      <td>6</td>\n",
       "      <td>9</td>\n",
       "      <td>11</td>\n",
       "      <td>9</td>\n",
       "      <td>5</td>\n",
       "    </tr>\n",
       "    <tr>\n",
       "      <th>4</th>\n",
       "      <td>Andorra</td>\n",
       "      <td>39</td>\n",
       "      <td>37</td>\n",
       "      <td>35</td>\n",
       "      <td>33</td>\n",
       "      <td>32</td>\n",
       "      <td>30</td>\n",
       "      <td>28</td>\n",
       "      <td>23</td>\n",
       "      <td>24</td>\n",
       "      <td>22</td>\n",
       "      <td>20</td>\n",
       "      <td>20</td>\n",
       "      <td>21</td>\n",
       "      <td>18</td>\n",
       "      <td>19</td>\n",
       "      <td>18</td>\n",
       "      <td>17</td>\n",
       "      <td>19</td>\n",
       "    </tr>\n",
       "  </tbody>\n",
       "</table>\n",
       "</div>"
      ],
      "text/plain": [
       "  Sales of Wheat in tons 1990 1991 1992 1993 1994 1995  1996  1997  1998  \\\n",
       "0            Afghanistan  436  429  422  415  407  397   397   387   374   \n",
       "1                Albania   42   40   41   42   42   43    42    44    43   \n",
       "2                Algeria   45   44   44   43   43   42    43    44    45   \n",
       "3         American Samoa   42   14    4   18   17   22     0    25    12   \n",
       "4                Andorra   39   37   35   33   32   30    28    23    24   \n",
       "\n",
       "   1999  2000  2001  2002  2003 2004 2005 2006 2007  \n",
       "0   373   346   326   304   308  283  267  251  238  \n",
       "1    42    40    34    32    32   29   29   26   22  \n",
       "2    46    48    49    50    51   52   53   55   56  \n",
       "3     8     8     6     5     6    9   11    9    5  \n",
       "4    22    20    20    21    18   19   18   17   19  "
      ]
     },
     "execution_count": 117,
     "metadata": {},
     "output_type": "execute_result"
    }
   ],
   "source": [
    "dfdata.head()"
   ]
  },
  {
   "cell_type": "code",
   "execution_count": 118,
   "metadata": {},
   "outputs": [
    {
     "data": {
      "text/plain": [
       "(207, 19)"
      ]
     },
     "execution_count": 118,
     "metadata": {},
     "output_type": "execute_result"
    }
   ],
   "source": [
    "dfdata.shape"
   ]
  },
  {
   "cell_type": "code",
   "execution_count": 119,
   "metadata": {},
   "outputs": [
    {
     "data": {
      "text/plain": [
       "207"
      ]
     },
     "execution_count": 119,
     "metadata": {},
     "output_type": "execute_result"
    }
   ],
   "source": [
    "len(dfdata['Sales of Wheat in tons'].unique())"
   ]
  },
  {
   "cell_type": "code",
   "execution_count": 120,
   "metadata": {},
   "outputs": [
    {
     "name": "stdout",
     "output_type": "stream",
     "text": [
      "<class 'pandas.core.frame.DataFrame'>\n",
      "RangeIndex: 207 entries, 0 to 206\n",
      "Data columns (total 19 columns):\n",
      "Sales of Wheat in tons    207 non-null object\n",
      "1990                      207 non-null object\n",
      "1991                      207 non-null object\n",
      "1992                      207 non-null object\n",
      "1993                      207 non-null object\n",
      "1994                      207 non-null object\n",
      "1995                      207 non-null object\n",
      "1996                      207 non-null int64\n",
      "1997                      207 non-null int64\n",
      "1998                      207 non-null int64\n",
      "1999                      207 non-null int64\n",
      "2000                      207 non-null int64\n",
      "2001                      207 non-null int64\n",
      "2002                      207 non-null int64\n",
      "2003                      207 non-null int64\n",
      "2004                      207 non-null object\n",
      "2005                      207 non-null object\n",
      "2006                      207 non-null object\n",
      "2007                      207 non-null object\n",
      "dtypes: int64(8), object(11)\n",
      "memory usage: 30.8+ KB\n"
     ]
    }
   ],
   "source": [
    "dfdata.info()"
   ]
  },
  {
   "cell_type": "code",
   "execution_count": 121,
   "metadata": {},
   "outputs": [],
   "source": [
    "# 3. Cleanse the data if required and remove null or blank values\n",
    "dfdata['1990'] = dfdata['1990'].str.replace(',', '').astype('int64')\n",
    "dfdata['1991'] = dfdata['1991'].str.replace(',', '').astype('int64')\n",
    "dfdata['1992'] = dfdata['1992'].str.replace(',', '').astype('int64')\n",
    "dfdata['1993'] = dfdata['1993'].str.replace(',', '').astype('int64')\n",
    "dfdata['1994'] = dfdata['1994'].str.replace(',', '').astype('int64')\n",
    "dfdata['1995'] = dfdata['1995'].str.replace(',', '').astype('int64')\n",
    "dfdata['2004'] = dfdata['2004'].str.replace(',', '').astype('int64')\n",
    "dfdata['2005'] = dfdata['2005'].str.replace(',', '').astype('int64')\n",
    "dfdata['2006'] = dfdata['2006'].str.replace(',', '').astype('int64')\n",
    "dfdata['2007'] = dfdata['2007'].str.replace(',', '').astype('int64')"
   ]
  },
  {
   "cell_type": "code",
   "execution_count": 122,
   "metadata": {},
   "outputs": [
    {
     "name": "stdout",
     "output_type": "stream",
     "text": [
      "<class 'pandas.core.frame.DataFrame'>\n",
      "RangeIndex: 207 entries, 0 to 206\n",
      "Data columns (total 19 columns):\n",
      "Sales of Wheat in tons    207 non-null object\n",
      "1990                      207 non-null int64\n",
      "1991                      207 non-null int64\n",
      "1992                      207 non-null int64\n",
      "1993                      207 non-null int64\n",
      "1994                      207 non-null int64\n",
      "1995                      207 non-null int64\n",
      "1996                      207 non-null int64\n",
      "1997                      207 non-null int64\n",
      "1998                      207 non-null int64\n",
      "1999                      207 non-null int64\n",
      "2000                      207 non-null int64\n",
      "2001                      207 non-null int64\n",
      "2002                      207 non-null int64\n",
      "2003                      207 non-null int64\n",
      "2004                      207 non-null int64\n",
      "2005                      207 non-null int64\n",
      "2006                      207 non-null int64\n",
      "2007                      207 non-null int64\n",
      "dtypes: int64(18), object(1)\n",
      "memory usage: 30.8+ KB\n"
     ]
    }
   ],
   "source": [
    "dfdata.info()"
   ]
  },
  {
   "cell_type": "code",
   "execution_count": 123,
   "metadata": {},
   "outputs": [],
   "source": [
    "# 2. Change the headers to country and year accordingly.\n",
    "dfdata.rename(columns = {\"Sales of Wheat in tons\": \"Country\"}, \n",
    "                                 inplace = True) "
   ]
  },
  {
   "cell_type": "code",
   "execution_count": 124,
   "metadata": {},
   "outputs": [
    {
     "data": {
      "text/html": [
       "<div>\n",
       "<style scoped>\n",
       "    .dataframe tbody tr th:only-of-type {\n",
       "        vertical-align: middle;\n",
       "    }\n",
       "\n",
       "    .dataframe tbody tr th {\n",
       "        vertical-align: top;\n",
       "    }\n",
       "\n",
       "    .dataframe thead th {\n",
       "        text-align: right;\n",
       "    }\n",
       "</style>\n",
       "<table border=\"1\" class=\"dataframe\">\n",
       "  <thead>\n",
       "    <tr style=\"text-align: right;\">\n",
       "      <th></th>\n",
       "      <th>Country</th>\n",
       "      <th>1990</th>\n",
       "      <th>1991</th>\n",
       "      <th>1992</th>\n",
       "      <th>1993</th>\n",
       "      <th>1994</th>\n",
       "      <th>1995</th>\n",
       "      <th>1996</th>\n",
       "      <th>1997</th>\n",
       "      <th>1998</th>\n",
       "      <th>1999</th>\n",
       "      <th>2000</th>\n",
       "      <th>2001</th>\n",
       "      <th>2002</th>\n",
       "      <th>2003</th>\n",
       "      <th>2004</th>\n",
       "      <th>2005</th>\n",
       "      <th>2006</th>\n",
       "      <th>2007</th>\n",
       "    </tr>\n",
       "  </thead>\n",
       "  <tbody>\n",
       "    <tr>\n",
       "      <th>0</th>\n",
       "      <td>Afghanistan</td>\n",
       "      <td>436</td>\n",
       "      <td>429</td>\n",
       "      <td>422</td>\n",
       "      <td>415</td>\n",
       "      <td>407</td>\n",
       "      <td>397</td>\n",
       "      <td>397</td>\n",
       "      <td>387</td>\n",
       "      <td>374</td>\n",
       "      <td>373</td>\n",
       "      <td>346</td>\n",
       "      <td>326</td>\n",
       "      <td>304</td>\n",
       "      <td>308</td>\n",
       "      <td>283</td>\n",
       "      <td>267</td>\n",
       "      <td>251</td>\n",
       "      <td>238</td>\n",
       "    </tr>\n",
       "    <tr>\n",
       "      <th>1</th>\n",
       "      <td>Albania</td>\n",
       "      <td>42</td>\n",
       "      <td>40</td>\n",
       "      <td>41</td>\n",
       "      <td>42</td>\n",
       "      <td>42</td>\n",
       "      <td>43</td>\n",
       "      <td>42</td>\n",
       "      <td>44</td>\n",
       "      <td>43</td>\n",
       "      <td>42</td>\n",
       "      <td>40</td>\n",
       "      <td>34</td>\n",
       "      <td>32</td>\n",
       "      <td>32</td>\n",
       "      <td>29</td>\n",
       "      <td>29</td>\n",
       "      <td>26</td>\n",
       "      <td>22</td>\n",
       "    </tr>\n",
       "    <tr>\n",
       "      <th>2</th>\n",
       "      <td>Algeria</td>\n",
       "      <td>45</td>\n",
       "      <td>44</td>\n",
       "      <td>44</td>\n",
       "      <td>43</td>\n",
       "      <td>43</td>\n",
       "      <td>42</td>\n",
       "      <td>43</td>\n",
       "      <td>44</td>\n",
       "      <td>45</td>\n",
       "      <td>46</td>\n",
       "      <td>48</td>\n",
       "      <td>49</td>\n",
       "      <td>50</td>\n",
       "      <td>51</td>\n",
       "      <td>52</td>\n",
       "      <td>53</td>\n",
       "      <td>55</td>\n",
       "      <td>56</td>\n",
       "    </tr>\n",
       "    <tr>\n",
       "      <th>3</th>\n",
       "      <td>American Samoa</td>\n",
       "      <td>42</td>\n",
       "      <td>14</td>\n",
       "      <td>4</td>\n",
       "      <td>18</td>\n",
       "      <td>17</td>\n",
       "      <td>22</td>\n",
       "      <td>0</td>\n",
       "      <td>25</td>\n",
       "      <td>12</td>\n",
       "      <td>8</td>\n",
       "      <td>8</td>\n",
       "      <td>6</td>\n",
       "      <td>5</td>\n",
       "      <td>6</td>\n",
       "      <td>9</td>\n",
       "      <td>11</td>\n",
       "      <td>9</td>\n",
       "      <td>5</td>\n",
       "    </tr>\n",
       "    <tr>\n",
       "      <th>4</th>\n",
       "      <td>Andorra</td>\n",
       "      <td>39</td>\n",
       "      <td>37</td>\n",
       "      <td>35</td>\n",
       "      <td>33</td>\n",
       "      <td>32</td>\n",
       "      <td>30</td>\n",
       "      <td>28</td>\n",
       "      <td>23</td>\n",
       "      <td>24</td>\n",
       "      <td>22</td>\n",
       "      <td>20</td>\n",
       "      <td>20</td>\n",
       "      <td>21</td>\n",
       "      <td>18</td>\n",
       "      <td>19</td>\n",
       "      <td>18</td>\n",
       "      <td>17</td>\n",
       "      <td>19</td>\n",
       "    </tr>\n",
       "  </tbody>\n",
       "</table>\n",
       "</div>"
      ],
      "text/plain": [
       "          Country  1990  1991  1992  1993  1994  1995  1996  1997  1998  1999  \\\n",
       "0     Afghanistan   436   429   422   415   407   397   397   387   374   373   \n",
       "1         Albania    42    40    41    42    42    43    42    44    43    42   \n",
       "2         Algeria    45    44    44    43    43    42    43    44    45    46   \n",
       "3  American Samoa    42    14     4    18    17    22     0    25    12     8   \n",
       "4         Andorra    39    37    35    33    32    30    28    23    24    22   \n",
       "\n",
       "   2000  2001  2002  2003  2004  2005  2006  2007  \n",
       "0   346   326   304   308   283   267   251   238  \n",
       "1    40    34    32    32    29    29    26    22  \n",
       "2    48    49    50    51    52    53    55    56  \n",
       "3     8     6     5     6     9    11     9     5  \n",
       "4    20    20    21    18    19    18    17    19  "
      ]
     },
     "execution_count": 124,
     "metadata": {},
     "output_type": "execute_result"
    }
   ],
   "source": [
    "dfdata.head()"
   ]
  },
  {
   "cell_type": "code",
   "execution_count": 125,
   "metadata": {},
   "outputs": [],
   "source": [
    "# 4. After the EDA part is done, try to think which algorithm should be applied here.\n",
    "# 5. As we need to make this across years we need to apply PCA first."
   ]
  },
  {
   "cell_type": "code",
   "execution_count": 126,
   "metadata": {},
   "outputs": [],
   "source": [
    "from sklearn.decomposition import PCA"
   ]
  },
  {
   "cell_type": "code",
   "execution_count": 127,
   "metadata": {},
   "outputs": [],
   "source": [
    "pca = PCA(n_components=10)"
   ]
  },
  {
   "cell_type": "code",
   "execution_count": 128,
   "metadata": {},
   "outputs": [],
   "source": [
    "# 6. Apply PCA on the dataset and find the number of principal components which explain nearly all the variance.\n",
    "\n",
    "# 7. Plot elbow chart or scree plot to find out optimal number of clusters."
   ]
  },
  {
   "cell_type": "code",
   "execution_count": 129,
   "metadata": {},
   "outputs": [
    {
     "data": {
      "text/plain": [
       "PCA(copy=True, iterated_power='auto', n_components=10, random_state=None,\n",
       "  svd_solver='auto', tol=0.0, whiten=False)"
      ]
     },
     "execution_count": 129,
     "metadata": {},
     "output_type": "execute_result"
    }
   ],
   "source": [
    "X = dfdata.drop('Country', axis =1)\n",
    "pca.fit(X)"
   ]
  },
  {
   "cell_type": "code",
   "execution_count": 130,
   "metadata": {},
   "outputs": [
    {
     "data": {
      "text/plain": [
       "array([9.18087891e+01, 6.05560009e+00, 1.08051220e+00, 2.39047545e-01,\n",
       "       2.19038229e-01, 1.64732996e-01, 1.19502740e-01, 7.97856744e-02,\n",
       "       6.35817920e-02, 4.61460559e-02])"
      ]
     },
     "execution_count": 130,
     "metadata": {},
     "output_type": "execute_result"
    }
   ],
   "source": [
    "pca.explained_variance_ratio_*100"
   ]
  },
  {
   "cell_type": "code",
   "execution_count": 131,
   "metadata": {},
   "outputs": [
    {
     "data": {
      "text/plain": [
       "[<matplotlib.lines.Line2D at 0x20b77511c88>]"
      ]
     },
     "execution_count": 131,
     "metadata": {},
     "output_type": "execute_result"
    },
    {
     "data": {
      "image/png": "[encoded data removed]",
      "text/plain": [
       "<Figure size 432x288 with 1 Axes>"
      ]
     },
     "metadata": {
      "needs_background": "light"
     },
     "output_type": "display_data"
    }
   ],
   "source": [
    "plt.plot(pca.explained_variance_ratio_*100) #elbow graph"
   ]
  },
  {
   "cell_type": "code",
   "execution_count": 132,
   "metadata": {},
   "outputs": [],
   "source": [
    "dftransformed = pd.DataFrame(pca.transform(X))"
   ]
  },
  {
   "cell_type": "code",
   "execution_count": 133,
   "metadata": {},
   "outputs": [
    {
     "data": {
      "text/html": [
       "<div>\n",
       "<style scoped>\n",
       "    .dataframe tbody tr th:only-of-type {\n",
       "        vertical-align: middle;\n",
       "    }\n",
       "\n",
       "    .dataframe tbody tr th {\n",
       "        vertical-align: top;\n",
       "    }\n",
       "\n",
       "    .dataframe thead th {\n",
       "        text-align: right;\n",
       "    }\n",
       "</style>\n",
       "<table border=\"1\" class=\"dataframe\">\n",
       "  <thead>\n",
       "    <tr style=\"text-align: right;\">\n",
       "      <th></th>\n",
       "      <th>0</th>\n",
       "      <th>1</th>\n",
       "      <th>2</th>\n",
       "      <th>3</th>\n",
       "      <th>4</th>\n",
       "      <th>5</th>\n",
       "      <th>6</th>\n",
       "      <th>7</th>\n",
       "      <th>8</th>\n",
       "      <th>9</th>\n",
       "    </tr>\n",
       "  </thead>\n",
       "  <tbody>\n",
       "    <tr>\n",
       "      <th>0</th>\n",
       "      <td>732.215864</td>\n",
       "      <td>203.381494</td>\n",
       "      <td>-91.386254</td>\n",
       "      <td>4.101273</td>\n",
       "      <td>0.874719</td>\n",
       "      <td>0.275762</td>\n",
       "      <td>-3.142209</td>\n",
       "      <td>-12.810095</td>\n",
       "      <td>-12.514548</td>\n",
       "      <td>3.084263</td>\n",
       "    </tr>\n",
       "    <tr>\n",
       "      <th>1</th>\n",
       "      <td>-613.296510</td>\n",
       "      <td>4.715978</td>\n",
       "      <td>3.723620</td>\n",
       "      <td>-5.497663</td>\n",
       "      <td>1.970405</td>\n",
       "      <td>-1.057776</td>\n",
       "      <td>-4.334214</td>\n",
       "      <td>1.633313</td>\n",
       "      <td>-1.162976</td>\n",
       "      <td>2.720540</td>\n",
       "    </tr>\n",
       "    <tr>\n",
       "      <th>2</th>\n",
       "      <td>-569.303713</td>\n",
       "      <td>-36.837051</td>\n",
       "      <td>22.974094</td>\n",
       "      <td>-7.077382</td>\n",
       "      <td>-2.342223</td>\n",
       "      <td>1.695158</td>\n",
       "      <td>1.561880</td>\n",
       "      <td>5.413996</td>\n",
       "      <td>0.339645</td>\n",
       "      <td>1.198487</td>\n",
       "    </tr>\n",
       "    <tr>\n",
       "      <th>3</th>\n",
       "      <td>-717.082766</td>\n",
       "      <td>5.464696</td>\n",
       "      <td>28.897037</td>\n",
       "      <td>-12.102115</td>\n",
       "      <td>-3.826874</td>\n",
       "      <td>4.185596</td>\n",
       "      <td>-1.302431</td>\n",
       "      <td>-5.457357</td>\n",
       "      <td>-5.949502</td>\n",
       "      <td>-4.693130</td>\n",
       "    </tr>\n",
       "    <tr>\n",
       "      <th>4</th>\n",
       "      <td>-661.802241</td>\n",
       "      <td>11.037736</td>\n",
       "      <td>26.829058</td>\n",
       "      <td>-4.721499</td>\n",
       "      <td>-0.923666</td>\n",
       "      <td>4.200434</td>\n",
       "      <td>0.199829</td>\n",
       "      <td>4.955191</td>\n",
       "      <td>-0.550326</td>\n",
       "      <td>0.346655</td>\n",
       "    </tr>\n",
       "  </tbody>\n",
       "</table>\n",
       "</div>"
      ],
      "text/plain": [
       "            0           1          2          3         4         5         6  \\\n",
       "0  732.215864  203.381494 -91.386254   4.101273  0.874719  0.275762 -3.142209   \n",
       "1 -613.296510    4.715978   3.723620  -5.497663  1.970405 -1.057776 -4.334214   \n",
       "2 -569.303713  -36.837051  22.974094  -7.077382 -2.342223  1.695158  1.561880   \n",
       "3 -717.082766    5.464696  28.897037 -12.102115 -3.826874  4.185596 -1.302431   \n",
       "4 -661.802241   11.037736  26.829058  -4.721499 -0.923666  4.200434  0.199829   \n",
       "\n",
       "           7          8         9  \n",
       "0 -12.810095 -12.514548  3.084263  \n",
       "1   1.633313  -1.162976  2.720540  \n",
       "2   5.413996   0.339645  1.198487  \n",
       "3  -5.457357  -5.949502 -4.693130  \n",
       "4   4.955191  -0.550326  0.346655  "
      ]
     },
     "execution_count": 133,
     "metadata": {},
     "output_type": "execute_result"
    }
   ],
   "source": [
    "dftransformed.head()"
   ]
  },
  {
   "cell_type": "code",
   "execution_count": 134,
   "metadata": {},
   "outputs": [],
   "source": [
    "dftransformedRequired = dftransformed[[0,1]]"
   ]
  },
  {
   "cell_type": "code",
   "execution_count": 135,
   "metadata": {},
   "outputs": [
    {
     "data": {
      "text/html": [
       "<div>\n",
       "<style scoped>\n",
       "    .dataframe tbody tr th:only-of-type {\n",
       "        vertical-align: middle;\n",
       "    }\n",
       "\n",
       "    .dataframe tbody tr th {\n",
       "        vertical-align: top;\n",
       "    }\n",
       "\n",
       "    .dataframe thead th {\n",
       "        text-align: right;\n",
       "    }\n",
       "</style>\n",
       "<table border=\"1\" class=\"dataframe\">\n",
       "  <thead>\n",
       "    <tr style=\"text-align: right;\">\n",
       "      <th></th>\n",
       "      <th>0</th>\n",
       "      <th>1</th>\n",
       "    </tr>\n",
       "  </thead>\n",
       "  <tbody>\n",
       "    <tr>\n",
       "      <th>0</th>\n",
       "      <td>732.215864</td>\n",
       "      <td>203.381494</td>\n",
       "    </tr>\n",
       "    <tr>\n",
       "      <th>1</th>\n",
       "      <td>-613.296510</td>\n",
       "      <td>4.715978</td>\n",
       "    </tr>\n",
       "    <tr>\n",
       "      <th>2</th>\n",
       "      <td>-569.303713</td>\n",
       "      <td>-36.837051</td>\n",
       "    </tr>\n",
       "    <tr>\n",
       "      <th>3</th>\n",
       "      <td>-717.082766</td>\n",
       "      <td>5.464696</td>\n",
       "    </tr>\n",
       "    <tr>\n",
       "      <th>4</th>\n",
       "      <td>-661.802241</td>\n",
       "      <td>11.037736</td>\n",
       "    </tr>\n",
       "  </tbody>\n",
       "</table>\n",
       "</div>"
      ],
      "text/plain": [
       "            0           1\n",
       "0  732.215864  203.381494\n",
       "1 -613.296510    4.715978\n",
       "2 -569.303713  -36.837051\n",
       "3 -717.082766    5.464696\n",
       "4 -661.802241   11.037736"
      ]
     },
     "execution_count": 135,
     "metadata": {},
     "output_type": "execute_result"
    }
   ],
   "source": [
    "dftransformedRequired.head()"
   ]
  },
  {
   "cell_type": "code",
   "execution_count": 136,
   "metadata": {},
   "outputs": [],
   "source": [
    "# 8. Then try to apply K means, Hierarchical clustering and showcase the results.\n",
    "\n",
    "# 9. You can either choose to group the countries based on years of data or using the principal components.\n",
    "\n",
    "# 10. Then see which countries are consistent and which are largest importers of the good based on scale and position of cluster."
   ]
  },
  {
   "cell_type": "code",
   "execution_count": 137,
   "metadata": {},
   "outputs": [],
   "source": [
    "from sklearn.cluster import KMeans"
   ]
  },
  {
   "cell_type": "code",
   "execution_count": 164,
   "metadata": {},
   "outputs": [],
   "source": [
    "kmeans = KMeans(n_clusters=4)"
   ]
  },
  {
   "cell_type": "code",
   "execution_count": 165,
   "metadata": {},
   "outputs": [
    {
     "data": {
      "text/plain": [
       "KMeans(algorithm='auto', copy_x=True, init='k-means++', max_iter=300,\n",
       "    n_clusters=4, n_init=10, n_jobs=None, precompute_distances='auto',\n",
       "    random_state=None, tol=0.0001, verbose=0)"
      ]
     },
     "execution_count": 165,
     "metadata": {},
     "output_type": "execute_result"
    }
   ],
   "source": [
    "kmeans.fit(dftransformedRequired)"
   ]
  },
  {
   "cell_type": "code",
   "execution_count": 166,
   "metadata": {},
   "outputs": [
    {
     "data": {
      "text/plain": [
       "array([[-5.33527847e+02,  1.09169936e+01,  2.68613139e+00],\n",
       "       [ 1.98884291e+03,  1.32915838e+02,  1.00000000e+00],\n",
       "       [ 6.52375310e+02,  1.77243231e+02,  5.00000000e-01],\n",
       "       [ 9.27082664e+02, -4.22457497e+02,  3.00000000e+00]])"
      ]
     },
     "execution_count": 166,
     "metadata": {},
     "output_type": "execute_result"
    }
   ],
   "source": [
    "kmeans.cluster_centers_"
   ]
  },
  {
   "cell_type": "code",
   "execution_count": 167,
   "metadata": {},
   "outputs": [
    {
     "data": {
      "text/plain": [
       "array([2, 0, 0, 0, 0, 2, 0, 0, 0, 0, 0, 0, 0, 0, 0, 1, 0, 0, 0, 0, 0, 0,\n",
       "       1, 2, 0, 3, 0, 0, 0, 0, 3, 3, 1, 2, 0, 2, 0, 3, 3, 0, 2, 0, 0, 3,\n",
       "       0, 0, 0, 0, 0, 0, 3, 1, 3, 0, 1, 0, 0, 2, 0, 0, 3, 0, 0, 3, 0, 0,\n",
       "       0, 0, 2, 3, 0, 0, 2, 0, 0, 0, 0, 3, 2, 0, 2, 0, 0, 0, 2, 2, 0, 0,\n",
       "       0, 0, 0, 0, 0, 0, 0, 3, 1, 0, 0, 2, 0, 0, 3, 2, 0, 0, 0, 2, 2, 0,\n",
       "       0, 1, 0, 1, 0, 0, 2, 0, 2, 0, 0, 3, 2, 1, 0, 2, 0, 0, 0, 0, 0, 2,\n",
       "       3, 0, 0, 0, 0, 2, 0, 0, 3, 0, 2, 1, 0, 0, 0, 0, 0, 0, 0, 0, 3, 0,\n",
       "       0, 0, 0, 0, 2, 0, 3, 0, 1, 0, 0, 0, 2, 2, 1, 0, 0, 2, 0, 1, 0, 0,\n",
       "       0, 0, 2, 0, 1, 1, 0, 0, 0, 0, 0, 0, 0, 2, 3, 0, 0, 0, 3, 0, 0, 0,\n",
       "       0, 0, 0, 2, 0, 0, 2, 1, 3])"
      ]
     },
     "execution_count": 167,
     "metadata": {},
     "output_type": "execute_result"
    }
   ],
   "source": [
    "kmeans.labels_"
   ]
  },
  {
   "cell_type": "code",
   "execution_count": 168,
   "metadata": {},
   "outputs": [
    {
     "name": "stderr",
     "output_type": "stream",
     "text": [
      "C:\\ProgramData\\Anaconda3\\lib\\site-packages\\ipykernel_launcher.py:1: SettingWithCopyWarning: \n",
      "A value is trying to be set on a copy of a slice from a DataFrame.\n",
      "Try using .loc[row_indexer,col_indexer] = value instead\n",
      "\n",
      "See the caveats in the documentation: http://pandas.pydata.org/pandas-docs/stable/indexing.html#indexing-view-versus-copy\n",
      "  \"\"\"Entry point for launching an IPython kernel.\n"
     ]
    }
   ],
   "source": [
    "dftransformedRequired['Class'] = kmeans.labels_"
   ]
  },
  {
   "cell_type": "code",
   "execution_count": 169,
   "metadata": {},
   "outputs": [
    {
     "data": {
      "text/html": [
       "<div>\n",
       "<style scoped>\n",
       "    .dataframe tbody tr th:only-of-type {\n",
       "        vertical-align: middle;\n",
       "    }\n",
       "\n",
       "    .dataframe tbody tr th {\n",
       "        vertical-align: top;\n",
       "    }\n",
       "\n",
       "    .dataframe thead th {\n",
       "        text-align: right;\n",
       "    }\n",
       "</style>\n",
       "<table border=\"1\" class=\"dataframe\">\n",
       "  <thead>\n",
       "    <tr style=\"text-align: right;\">\n",
       "      <th></th>\n",
       "      <th>col_1</th>\n",
       "      <th>col_2</th>\n",
       "      <th>Class</th>\n",
       "    </tr>\n",
       "  </thead>\n",
       "  <tbody>\n",
       "    <tr>\n",
       "      <th>0</th>\n",
       "      <td>732.215864</td>\n",
       "      <td>203.381494</td>\n",
       "      <td>2</td>\n",
       "    </tr>\n",
       "    <tr>\n",
       "      <th>1</th>\n",
       "      <td>-613.296510</td>\n",
       "      <td>4.715978</td>\n",
       "      <td>0</td>\n",
       "    </tr>\n",
       "    <tr>\n",
       "      <th>2</th>\n",
       "      <td>-569.303713</td>\n",
       "      <td>-36.837051</td>\n",
       "      <td>0</td>\n",
       "    </tr>\n",
       "    <tr>\n",
       "      <th>3</th>\n",
       "      <td>-717.082766</td>\n",
       "      <td>5.464696</td>\n",
       "      <td>0</td>\n",
       "    </tr>\n",
       "    <tr>\n",
       "      <th>4</th>\n",
       "      <td>-661.802241</td>\n",
       "      <td>11.037736</td>\n",
       "      <td>0</td>\n",
       "    </tr>\n",
       "  </tbody>\n",
       "</table>\n",
       "</div>"
      ],
      "text/plain": [
       "        col_1       col_2  Class\n",
       "0  732.215864  203.381494      2\n",
       "1 -613.296510    4.715978      0\n",
       "2 -569.303713  -36.837051      0\n",
       "3 -717.082766    5.464696      0\n",
       "4 -661.802241   11.037736      0"
      ]
     },
     "execution_count": 169,
     "metadata": {},
     "output_type": "execute_result"
    }
   ],
   "source": [
    "dftransformedRequired.head()"
   ]
  },
  {
   "cell_type": "code",
   "execution_count": 170,
   "metadata": {},
   "outputs": [
    {
     "name": "stderr",
     "output_type": "stream",
     "text": [
      "C:\\ProgramData\\Anaconda3\\lib\\site-packages\\pandas\\core\\frame.py:3781: SettingWithCopyWarning: \n",
      "A value is trying to be set on a copy of a slice from a DataFrame\n",
      "\n",
      "See the caveats in the documentation: http://pandas.pydata.org/pandas-docs/stable/indexing.html#indexing-view-versus-copy\n",
      "  return super(DataFrame, self).rename(**kwargs)\n"
     ]
    }
   ],
   "source": [
    "dftransformedRequired.rename(columns={0: \"col_1\",1:\"col_2\"}, inplace=True)"
   ]
  },
  {
   "cell_type": "code",
   "execution_count": 171,
   "metadata": {},
   "outputs": [
    {
     "data": {
      "text/html": [
       "<div>\n",
       "<style scoped>\n",
       "    .dataframe tbody tr th:only-of-type {\n",
       "        vertical-align: middle;\n",
       "    }\n",
       "\n",
       "    .dataframe tbody tr th {\n",
       "        vertical-align: top;\n",
       "    }\n",
       "\n",
       "    .dataframe thead th {\n",
       "        text-align: right;\n",
       "    }\n",
       "</style>\n",
       "<table border=\"1\" class=\"dataframe\">\n",
       "  <thead>\n",
       "    <tr style=\"text-align: right;\">\n",
       "      <th></th>\n",
       "      <th>col_1</th>\n",
       "      <th>col_2</th>\n",
       "      <th>Class</th>\n",
       "    </tr>\n",
       "  </thead>\n",
       "  <tbody>\n",
       "    <tr>\n",
       "      <th>0</th>\n",
       "      <td>732.215864</td>\n",
       "      <td>203.381494</td>\n",
       "      <td>2</td>\n",
       "    </tr>\n",
       "    <tr>\n",
       "      <th>1</th>\n",
       "      <td>-613.296510</td>\n",
       "      <td>4.715978</td>\n",
       "      <td>0</td>\n",
       "    </tr>\n",
       "    <tr>\n",
       "      <th>2</th>\n",
       "      <td>-569.303713</td>\n",
       "      <td>-36.837051</td>\n",
       "      <td>0</td>\n",
       "    </tr>\n",
       "    <tr>\n",
       "      <th>3</th>\n",
       "      <td>-717.082766</td>\n",
       "      <td>5.464696</td>\n",
       "      <td>0</td>\n",
       "    </tr>\n",
       "    <tr>\n",
       "      <th>4</th>\n",
       "      <td>-661.802241</td>\n",
       "      <td>11.037736</td>\n",
       "      <td>0</td>\n",
       "    </tr>\n",
       "  </tbody>\n",
       "</table>\n",
       "</div>"
      ],
      "text/plain": [
       "        col_1       col_2  Class\n",
       "0  732.215864  203.381494      2\n",
       "1 -613.296510    4.715978      0\n",
       "2 -569.303713  -36.837051      0\n",
       "3 -717.082766    5.464696      0\n",
       "4 -661.802241   11.037736      0"
      ]
     },
     "execution_count": 171,
     "metadata": {},
     "output_type": "execute_result"
    }
   ],
   "source": [
    "dftransformedRequired.head()"
   ]
  },
  {
   "cell_type": "code",
   "execution_count": 172,
   "metadata": {},
   "outputs": [
    {
     "name": "stderr",
     "output_type": "stream",
     "text": [
      "C:\\ProgramData\\Anaconda3\\lib\\site-packages\\scipy\\stats\\stats.py:1713: FutureWarning: Using a non-tuple sequence for multidimensional indexing is deprecated; use `arr[tuple(seq)]` instead of `arr[seq]`. In the future this will be interpreted as an array index, `arr[np.array(seq)]`, which will result either in an error or a different result.\n",
      "  return np.add.reduce(sorted[indexer] * weights, axis=axis) / sumval\n"
     ]
    },
    {
     "data": {
      "text/plain": [
       "<Figure size 576x576 with 0 Axes>"
      ]
     },
     "execution_count": 172,
     "metadata": {},
     "output_type": "execute_result"
    },
    {
     "data": {
      "image/png": "[encoded data removed]",
      "text/plain": [
       "<Figure size 402.375x360 with 1 Axes>"
      ]
     },
     "metadata": {
      "needs_background": "light"
     },
     "output_type": "display_data"
    },
    {
     "data": {
      "text/plain": [
       "<Figure size 576x576 with 0 Axes>"
      ]
     },
     "metadata": {},
     "output_type": "display_data"
    }
   ],
   "source": [
    "ax = sns.lmplot(\"col_1\",\"col_2\", hue='Class', data= dftransformedRequired, palette='bright')\n",
    "plt.figure(figsize=(8,8))"
   ]
  },
  {
   "cell_type": "code",
   "execution_count": 176,
   "metadata": {},
   "outputs": [
    {
     "data": {
      "text/plain": [
       "<matplotlib.axes._subplots.AxesSubplot at 0x20b75f643c8>"
      ]
     },
     "execution_count": 176,
     "metadata": {},
     "output_type": "execute_result"
    },
    {
     "data": {
      "image/png": "[encoded data removed]",
      "text/plain": [
       "<Figure size 432x288 with 1 Axes>"
      ]
     },
     "metadata": {
      "needs_background": "light"
     },
     "output_type": "display_data"
    }
   ],
   "source": [
    "sns.countplot(dftransformedRequired.Class, palette='bright')"
   ]
  },
  {
   "cell_type": "code",
   "execution_count": 174,
   "metadata": {},
   "outputs": [],
   "source": [
    "dfdata['Class'] = dftransformedRequired['Class']"
   ]
  },
  {
   "cell_type": "code",
   "execution_count": 175,
   "metadata": {},
   "outputs": [
    {
     "data": {
      "text/html": [
       "<div>\n",
       "<style scoped>\n",
       "    .dataframe tbody tr th:only-of-type {\n",
       "        vertical-align: middle;\n",
       "    }\n",
       "\n",
       "    .dataframe tbody tr th {\n",
       "        vertical-align: top;\n",
       "    }\n",
       "\n",
       "    .dataframe thead th {\n",
       "        text-align: right;\n",
       "    }\n",
       "</style>\n",
       "<table border=\"1\" class=\"dataframe\">\n",
       "  <thead>\n",
       "    <tr style=\"text-align: right;\">\n",
       "      <th></th>\n",
       "      <th>Country</th>\n",
       "      <th>1990</th>\n",
       "      <th>1991</th>\n",
       "      <th>1992</th>\n",
       "      <th>1993</th>\n",
       "      <th>1994</th>\n",
       "      <th>1995</th>\n",
       "      <th>1996</th>\n",
       "      <th>1997</th>\n",
       "      <th>1998</th>\n",
       "      <th>1999</th>\n",
       "      <th>2000</th>\n",
       "      <th>2001</th>\n",
       "      <th>2002</th>\n",
       "      <th>2003</th>\n",
       "      <th>2004</th>\n",
       "      <th>2005</th>\n",
       "      <th>2006</th>\n",
       "      <th>2007</th>\n",
       "      <th>Class</th>\n",
       "    </tr>\n",
       "  </thead>\n",
       "  <tbody>\n",
       "    <tr>\n",
       "      <th>134</th>\n",
       "      <td>Northern Mariana Islands</td>\n",
       "      <td>142</td>\n",
       "      <td>201</td>\n",
       "      <td>301</td>\n",
       "      <td>194</td>\n",
       "      <td>186</td>\n",
       "      <td>185</td>\n",
       "      <td>188</td>\n",
       "      <td>331</td>\n",
       "      <td>334</td>\n",
       "      <td>220</td>\n",
       "      <td>135</td>\n",
       "      <td>120</td>\n",
       "      <td>95</td>\n",
       "      <td>83</td>\n",
       "      <td>80</td>\n",
       "      <td>83</td>\n",
       "      <td>83</td>\n",
       "      <td>72</td>\n",
       "      <td>0</td>\n",
       "    </tr>\n",
       "    <tr>\n",
       "      <th>108</th>\n",
       "      <td>Malawi</td>\n",
       "      <td>380</td>\n",
       "      <td>376</td>\n",
       "      <td>365</td>\n",
       "      <td>355</td>\n",
       "      <td>353</td>\n",
       "      <td>348</td>\n",
       "      <td>337</td>\n",
       "      <td>342</td>\n",
       "      <td>345</td>\n",
       "      <td>349</td>\n",
       "      <td>362</td>\n",
       "      <td>350</td>\n",
       "      <td>358</td>\n",
       "      <td>353</td>\n",
       "      <td>346</td>\n",
       "      <td>342</td>\n",
       "      <td>324</td>\n",
       "      <td>305</td>\n",
       "      <td>2</td>\n",
       "    </tr>\n",
       "    <tr>\n",
       "      <th>163</th>\n",
       "      <td>Singapore</td>\n",
       "      <td>52</td>\n",
       "      <td>52</td>\n",
       "      <td>53</td>\n",
       "      <td>50</td>\n",
       "      <td>49</td>\n",
       "      <td>49</td>\n",
       "      <td>50</td>\n",
       "      <td>50</td>\n",
       "      <td>48</td>\n",
       "      <td>44</td>\n",
       "      <td>39</td>\n",
       "      <td>36</td>\n",
       "      <td>34</td>\n",
       "      <td>32</td>\n",
       "      <td>31</td>\n",
       "      <td>28</td>\n",
       "      <td>27</td>\n",
       "      <td>27</td>\n",
       "      <td>0</td>\n",
       "    </tr>\n",
       "    <tr>\n",
       "      <th>99</th>\n",
       "      <td>Laos</td>\n",
       "      <td>428</td>\n",
       "      <td>424</td>\n",
       "      <td>420</td>\n",
       "      <td>415</td>\n",
       "      <td>411</td>\n",
       "      <td>407</td>\n",
       "      <td>373</td>\n",
       "      <td>360</td>\n",
       "      <td>352</td>\n",
       "      <td>344</td>\n",
       "      <td>344</td>\n",
       "      <td>337</td>\n",
       "      <td>330</td>\n",
       "      <td>324</td>\n",
       "      <td>313</td>\n",
       "      <td>298</td>\n",
       "      <td>291</td>\n",
       "      <td>289</td>\n",
       "      <td>2</td>\n",
       "    </tr>\n",
       "    <tr>\n",
       "      <th>91</th>\n",
       "      <td>Jamaica</td>\n",
       "      <td>10</td>\n",
       "      <td>10</td>\n",
       "      <td>10</td>\n",
       "      <td>10</td>\n",
       "      <td>9</td>\n",
       "      <td>9</td>\n",
       "      <td>7</td>\n",
       "      <td>7</td>\n",
       "      <td>7</td>\n",
       "      <td>7</td>\n",
       "      <td>7</td>\n",
       "      <td>7</td>\n",
       "      <td>7</td>\n",
       "      <td>7</td>\n",
       "      <td>7</td>\n",
       "      <td>7</td>\n",
       "      <td>7</td>\n",
       "      <td>7</td>\n",
       "      <td>0</td>\n",
       "    </tr>\n",
       "    <tr>\n",
       "      <th>31</th>\n",
       "      <td>Burundi</td>\n",
       "      <td>288</td>\n",
       "      <td>302</td>\n",
       "      <td>292</td>\n",
       "      <td>293</td>\n",
       "      <td>305</td>\n",
       "      <td>322</td>\n",
       "      <td>339</td>\n",
       "      <td>346</td>\n",
       "      <td>424</td>\n",
       "      <td>412</td>\n",
       "      <td>455</td>\n",
       "      <td>522</td>\n",
       "      <td>581</td>\n",
       "      <td>619</td>\n",
       "      <td>639</td>\n",
       "      <td>654</td>\n",
       "      <td>657</td>\n",
       "      <td>647</td>\n",
       "      <td>3</td>\n",
       "    </tr>\n",
       "    <tr>\n",
       "      <th>194</th>\n",
       "      <td>Tanzania</td>\n",
       "      <td>215</td>\n",
       "      <td>228</td>\n",
       "      <td>240</td>\n",
       "      <td>252</td>\n",
       "      <td>269</td>\n",
       "      <td>283</td>\n",
       "      <td>301</td>\n",
       "      <td>324</td>\n",
       "      <td>333</td>\n",
       "      <td>347</td>\n",
       "      <td>364</td>\n",
       "      <td>367</td>\n",
       "      <td>383</td>\n",
       "      <td>380</td>\n",
       "      <td>373</td>\n",
       "      <td>364</td>\n",
       "      <td>353</td>\n",
       "      <td>337</td>\n",
       "      <td>3</td>\n",
       "    </tr>\n",
       "    <tr>\n",
       "      <th>13</th>\n",
       "      <td>Bahamas</td>\n",
       "      <td>54</td>\n",
       "      <td>53</td>\n",
       "      <td>52</td>\n",
       "      <td>52</td>\n",
       "      <td>53</td>\n",
       "      <td>54</td>\n",
       "      <td>54</td>\n",
       "      <td>54</td>\n",
       "      <td>55</td>\n",
       "      <td>46</td>\n",
       "      <td>45</td>\n",
       "      <td>45</td>\n",
       "      <td>51</td>\n",
       "      <td>51</td>\n",
       "      <td>50</td>\n",
       "      <td>50</td>\n",
       "      <td>50</td>\n",
       "      <td>51</td>\n",
       "      <td>0</td>\n",
       "    </tr>\n",
       "    <tr>\n",
       "      <th>98</th>\n",
       "      <td>Kyrgyzstan</td>\n",
       "      <td>90</td>\n",
       "      <td>93</td>\n",
       "      <td>93</td>\n",
       "      <td>93</td>\n",
       "      <td>101</td>\n",
       "      <td>118</td>\n",
       "      <td>141</td>\n",
       "      <td>165</td>\n",
       "      <td>147</td>\n",
       "      <td>146</td>\n",
       "      <td>156</td>\n",
       "      <td>169</td>\n",
       "      <td>153</td>\n",
       "      <td>145</td>\n",
       "      <td>139</td>\n",
       "      <td>136</td>\n",
       "      <td>135</td>\n",
       "      <td>134</td>\n",
       "      <td>0</td>\n",
       "    </tr>\n",
       "    <tr>\n",
       "      <th>15</th>\n",
       "      <td>Bangladesh</td>\n",
       "      <td>639</td>\n",
       "      <td>623</td>\n",
       "      <td>608</td>\n",
       "      <td>594</td>\n",
       "      <td>579</td>\n",
       "      <td>576</td>\n",
       "      <td>550</td>\n",
       "      <td>535</td>\n",
       "      <td>516</td>\n",
       "      <td>492</td>\n",
       "      <td>500</td>\n",
       "      <td>491</td>\n",
       "      <td>478</td>\n",
       "      <td>458</td>\n",
       "      <td>444</td>\n",
       "      <td>416</td>\n",
       "      <td>392</td>\n",
       "      <td>387</td>\n",
       "      <td>1</td>\n",
       "    </tr>\n",
       "  </tbody>\n",
       "</table>\n",
       "</div>"
      ],
      "text/plain": [
       "                      Country  1990  1991  1992  1993  1994  1995  1996  1997  \\\n",
       "134  Northern Mariana Islands   142   201   301   194   186   185   188   331   \n",
       "108                    Malawi   380   376   365   355   353   348   337   342   \n",
       "163                 Singapore    52    52    53    50    49    49    50    50   \n",
       "99                       Laos   428   424   420   415   411   407   373   360   \n",
       "91                    Jamaica    10    10    10    10     9     9     7     7   \n",
       "31                    Burundi   288   302   292   293   305   322   339   346   \n",
       "194                  Tanzania   215   228   240   252   269   283   301   324   \n",
       "13                    Bahamas    54    53    52    52    53    54    54    54   \n",
       "98                 Kyrgyzstan    90    93    93    93   101   118   141   165   \n",
       "15                 Bangladesh   639   623   608   594   579   576   550   535   \n",
       "\n",
       "     1998  1999  2000  2001  2002  2003  2004  2005  2006  2007  Class  \n",
       "134   334   220   135   120    95    83    80    83    83    72      0  \n",
       "108   345   349   362   350   358   353   346   342   324   305      2  \n",
       "163    48    44    39    36    34    32    31    28    27    27      0  \n",
       "99    352   344   344   337   330   324   313   298   291   289      2  \n",
       "91      7     7     7     7     7     7     7     7     7     7      0  \n",
       "31    424   412   455   522   581   619   639   654   657   647      3  \n",
       "194   333   347   364   367   383   380   373   364   353   337      3  \n",
       "13     55    46    45    45    51    51    50    50    50    51      0  \n",
       "98    147   146   156   169   153   145   139   136   135   134      0  \n",
       "15    516   492   500   491   478   458   444   416   392   387      1  "
      ]
     },
     "execution_count": 175,
     "metadata": {},
     "output_type": "execute_result"
    }
   ],
   "source": [
    "dfdata.sample(10)"
   ]
  },
  {
   "cell_type": "code",
   "execution_count": 182,
   "metadata": {},
   "outputs": [
    {
     "data": {
      "text/plain": [
       "['Afghanistan',\n",
       " 'Angola',\n",
       " 'Bolivia',\n",
       " 'Cameroon',\n",
       " 'Cape Verde',\n",
       " 'China',\n",
       " 'Ecuador',\n",
       " 'Gabon',\n",
       " 'Ghana',\n",
       " 'Guinea-Bissau',\n",
       " 'Haiti',\n",
       " 'India',\n",
       " 'Indonesia',\n",
       " 'Laos',\n",
       " 'Liberia',\n",
       " 'Madagascar',\n",
       " 'Malawi',\n",
       " 'Micronesia, Fed. Sts.',\n",
       " 'Mongolia',\n",
       " 'Myanmar',\n",
       " 'Nepal',\n",
       " 'Niger',\n",
       " 'Pakistan',\n",
       " 'Peru',\n",
       " 'Sao Tome and Principe',\n",
       " 'Solomon Islands',\n",
       " 'Somalia',\n",
       " 'Sudan',\n",
       " 'Thailand',\n",
       " 'Tuvalu',\n",
       " 'Viet Nam',\n",
       " 'Yemen']"
      ]
     },
     "execution_count": 182,
     "metadata": {},
     "output_type": "execute_result"
    }
   ],
   "source": [
    "list(dfdata[dfdata['Class']== 2]['Country']) #consistent countries"
   ]
  },
  {
   "cell_type": "code",
   "execution_count": 183,
   "metadata": {},
   "outputs": [],
   "source": [
    "from scipy.cluster.hierarchy import dendrogram, linkage\n",
    "from matplotlib import pyplot as plt"
   ]
  },
  {
   "cell_type": "code",
   "execution_count": 184,
   "metadata": {},
   "outputs": [
    {
     "data": {
      "image/png": "[encoded data removed]",
      "text/plain": [
       "<Figure size 360x360 with 1 Axes>"
      ]
     },
     "metadata": {
      "needs_background": "light"
     },
     "output_type": "display_data"
    }
   ],
   "source": [
    "f1 = dftransformedRequired['col_1'].values\n",
    "f2 = dftransformedRequired['col_2'].values\n",
    "fb = f1[0:10]\n",
    "fg = f2[0:10]\n",
    "X = np.array(list(zip(fb, fg)))\n",
    "Z = linkage(X, 'ward')\n",
    "fig = plt.figure(figsize = (5,5))\n",
    "dn = dendrogram(Z)"
   ]
  },
  {
   "cell_type": "code",
   "execution_count": 185,
   "metadata": {},
   "outputs": [
    {
     "data": {
      "image/png": "[encoded data removed]",
      "text/plain": [
       "<Figure size 360x360 with 1 Axes>"
      ]
     },
     "metadata": {
      "needs_background": "light"
     },
     "output_type": "display_data"
    }
   ],
   "source": [
    "Z = linkage(X, 'single')\n",
    "fig = plt.figure(figsize = (5,5))\n",
    "dn = dendrogram(Z)"
   ]
  },
  {
   "cell_type": "code",
   "execution_count": null,
   "metadata": {},
   "outputs": [],
   "source": []
  }
 ],
 "metadata": {
  "kernelspec": {
   "display_name": "Python 3",
   "language": "python",
   "name": "python3"
  },
  "language_info": {
   "codemirror_mode": {
    "name": "ipython",
    "version": 3
   },
   "file_extension": ".py",
   "mimetype": "text/x-python",
   "name": "python",
   "nbconvert_exporter": "python",
   "pygments_lexer": "ipython3",
   "version": "3.7.1"
  }
 },
 "nbformat": 4,
 "nbformat_minor": 2
}
